{
 "cells": [
  {
   "cell_type": "code",
   "execution_count": 5,
   "id": "f5460e49",
   "metadata": {},
   "outputs": [],
   "source": [
    "import numpy as np\n",
    "import pandas as pd\n",
    "import mlflow\n",
    "import warnings\n",
    "import pickle\n",
    "import matplotlib.pyplot as plt\n",
    "from matplotlib.gridspec import GridSpec\n",
    "from matplotlib import ticker\n",
    "from statsmodels.tsa.stattools import adfuller, acf, pacf\n",
    "from sklearn.preprocessing import MinMaxScaler\n",
    "from sklearn.preprocessing import StandardScaler\n",
    "import tensorflow as tf\n",
    "from tensorflow.keras.models import Sequential\n",
    "from tensorflow.keras.layers import Dense\n",
    "from tensorflow.keras.layers import LSTM\n",
    "from sklearn.ensemble import RandomForestRegressor\n",
    "import sys, os"
   ]
  },
  {
   "cell_type": "code",
   "execution_count": 6,
   "id": "bc133ec1",
   "metadata": {},
   "outputs": [],
   "source": [
    "# sns.set()\n",
    "%matplotlib inline\n",
    "warnings.filterwarnings(\"ignore\")"
   ]
  },
  {
   "cell_type": "code",
   "execution_count": 7,
   "id": "83bf1188",
   "metadata": {},
   "outputs": [],
   "source": [
    "sys.path.append(os.path.abspath(os.path.join('../scripts')))"
   ]
  },
  {
   "cell_type": "code",
   "execution_count": 27,
   "id": "9ee22f60",
   "metadata": {},
   "outputs": [],
   "source": [
    "from file_handler import FileHandler\n",
    "from train import Train"
   ]
  },
  {
   "cell_type": "code",
   "execution_count": 15,
   "id": "d30803e3",
   "metadata": {},
   "outputs": [],
   "source": [
    "file_handler = FileHandler()\n",
    "merged = file_handler.read_csv(\"../data/train.csv\")"
   ]
  },
  {
   "cell_type": "code",
   "execution_count": 24,
   "id": "7b8f07a7",
   "metadata": {},
   "outputs": [],
   "source": [
    "df = file_handler.read_csv('data/train.csv.dvc', 'v2')\n"
   ]
  },
  {
   "cell_type": "code",
   "execution_count": 29,
   "id": "61afe8fc",
   "metadata": {},
   "outputs": [
    {
     "name": "stderr",
     "output_type": "stream",
     "text": [
      "2022/05/30 12:04:38 INFO mlflow.utils.autologging_utils: Created MLflow autologging run with ID '14570f66b1444026a466bb9d11d0b85d', which will track hyperparameters, performance metrics, model artifacts, and lineage information for the current sklearn workflow\n",
      "[Parallel(n_jobs=-1)]: Using backend ThreadingBackend with 8 concurrent workers.\n",
      "[Parallel(n_jobs=-1)]: Done  15 out of  15 | elapsed:   10.5s finished\n",
      "[Parallel(n_jobs=8)]: Using backend ThreadingBackend with 8 concurrent workers.\n",
      "[Parallel(n_jobs=8)]: Done  15 out of  15 | elapsed:    0.1s finished\n",
      "[Parallel(n_jobs=8)]: Using backend ThreadingBackend with 8 concurrent workers.\n",
      "[Parallel(n_jobs=8)]: Done  15 out of  15 | elapsed:    0.1s finished\n",
      "[Parallel(n_jobs=8)]: Using backend ThreadingBackend with 8 concurrent workers.\n",
      "[Parallel(n_jobs=8)]: Done  15 out of  15 | elapsed:    0.0s finished\n",
      "2022/05/30 12:04:55 INFO mlflow.utils.autologging_utils: Created MLflow autologging run with ID 'bd4aa3a154ba48adb1c8f7a22543f5fa', which will track hyperparameters, performance metrics, model artifacts, and lineage information for the current sklearn workflow\n",
      "[Parallel(n_jobs=-1)]: Using backend ThreadingBackend with 8 concurrent workers.\n",
      "[Parallel(n_jobs=-1)]: Done  15 out of  15 | elapsed:    9.1s finished\n",
      "[Parallel(n_jobs=8)]: Using backend ThreadingBackend with 8 concurrent workers.\n",
      "[Parallel(n_jobs=8)]: Done  15 out of  15 | elapsed:    0.0s finished\n",
      "[Parallel(n_jobs=8)]: Using backend ThreadingBackend with 8 concurrent workers.\n",
      "[Parallel(n_jobs=8)]: Done  15 out of  15 | elapsed:    0.0s finished\n",
      "[Parallel(n_jobs=8)]: Using backend ThreadingBackend with 8 concurrent workers.\n",
      "[Parallel(n_jobs=8)]: Done  15 out of  15 | elapsed:    0.0s finished\n"
     ]
    }
   ],
   "source": [
    "model = RandomForestRegressor(n_jobs=-1, n_estimators=15,\n",
    "                                verbose=True,\n",
    "                                max_depth=15,\n",
    "                                min_samples_split=2,\n",
    "                                min_samples_leaf=1)\n",
    "train_model = Train(model, \"Random Forest Regressor\")\n",
    "\n",
    "train_model.train_sales()\n",
    "train_model.train_customers()"
   ]
  },
  {
   "cell_type": "code",
   "execution_count": null,
   "id": "d67d6767",
   "metadata": {},
   "outputs": [],
   "source": []
  },
  {
   "cell_type": "code",
   "execution_count": null,
   "id": "b245904b",
   "metadata": {},
   "outputs": [],
   "source": []
  }
 ],
 "metadata": {
  "kernelspec": {
   "display_name": "Python 3 (ipykernel)",
   "language": "python",
   "name": "python3"
  },
  "language_info": {
   "codemirror_mode": {
    "name": "ipython",
    "version": 3
   },
   "file_extension": ".py",
   "mimetype": "text/x-python",
   "name": "python",
   "nbconvert_exporter": "python",
   "pygments_lexer": "ipython3",
   "version": "3.9.7"
  }
 },
 "nbformat": 4,
 "nbformat_minor": 5
}
